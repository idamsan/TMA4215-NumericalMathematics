{
 "cells": [
  {
   "cell_type": "markdown",
   "metadata": {},
   "source": [
    "### TMA4215 Numerisk Matematikk \n",
    "\n",
    "Høst 2021 – October 22, 2021\n",
    "\n",
    "R. Bergmann, E. Çokaj, O. P. Hellan \n",
    "\n",
    "# Problem Sheet 5\n",
    "\n",
    "## Deadline\n",
    "October 29, 2021, 23:59\n",
    "\n",
    "\n",
    "## Submission\n",
    "Submit your Jupyter notebook containing the solution via upload in Blackboard."
   ]
  },
  {
   "cell_type": "markdown",
   "metadata": {},
   "source": [
    "## Problem 1\n",
    "\n",
    "We want to look at one property from the B splines $B_{i,m}$ of order $m$ (degree $k+1$). Remember that they were recursively\n",
    "defined for a knot vector $\\Delta = [x_0,\\ldots,x_n]$ of pairwise distinct points as\n",
    "\n",
    "$$\n",
    "\\begin{aligned}\n",
    "B_{i,1}(x) & = \\begin{cases}\n",
    "  1 &\\text{ if } x_i \\leq x < x_{i+1}\\\\\n",
    "  0 &\\text{ else,}\n",
    "\\end{cases}\\qquad i\\in \\{0,\\ldots,n-1\\} \\\\\n",
    "B_{i,k+1}(x) & = \\lambda_{i,k+1}(x)B_{i,k}(x) + (1-\\lambda_{i+1,k+1}(x))B_{i+1,k}(x)\n",
    "\\qquad k \\geq 1, i \\in \\{0,\\ldots,n-k-1\\} \\\\\n",
    "\\text{where}\\quad\\lambda_{i,k+1}(x) & =\n",
    "\\begin{cases}\n",
    "\\frac{x-x_i}{x_{i+k}-x_i} & \\text{ if } x_i < x_{x+k}\\\\\n",
    "0 & \\text {else}\n",
    "\\end{cases}\n",
    "\\end{aligned}\n",
    "$$\n",
    "\n",
    "We then further introduced “enough” boundary points by repeating the start and endpoint to appear $m=k+1$ times in the beginning and end, i.e. $\\tilde \\Delta = [x_0,\\ldots,x_0,x_1,\\ldots,x_{n-1},x_n,\\ldots,x_n]$ to define also $B_{-k,m},\\ldots B_{-1,m}$ as well as $B_{n-k,m},\\ldots,B_{n-1,m}$\n",
    "\n",
    "Prove by induction that the B-splines form a partition of unity, i.e.\n",
    "\\begin{equation*}\n",
    "\\sum_{i=-k}^{n-1} B_{i,m}(x) = 1.\n",
    "\\end{equation*}\n"
   ]
  },
  {
   "cell_type": "markdown",
   "metadata": {},
   "source": [
    "**1**\n",
    "\n",
    "Since by definition we have \n",
    "\n",
    "$\n",
    "B_{i,1}(x)  = \\begin{cases}\n",
    "  1 &\\text{ if } x_i \\leq x < x_{i+1}\\\\\n",
    "  0 &\\text{ else,}\n",
    "\\end{cases}\\qquad i\\in \\{0,\\ldots,n-1\\}\n",
    "$\n",
    "\n",
    "It is easy to accept that\n",
    "\n",
    "$\\sum_{i=-k}^{n-1} B_{i,m}(x) = 1$.\n",
    "\n",
    "This is because for all $i \\notin \\{0,\\ldots,n-1\\}$, $B_{i,1} = 0$. Also for any x, since the knot vector consists of pairwise distinct nodes, the x will only fall inside **one** of the intervals $[x_i, x_{i+1})$, which makes all $B_{j,1}, j \\in \\{0,\\ldots,n-1\\}, j\\neq i$, equal zero. $\\implies$ the sum is 1, and this will be our base case. \n",
    "\n",
    "Now, assume that partition of unity holds for all degrees $\\leq k$. \n",
    "\n",
    "Notice that $\\lambda_{i,k+1}(x) = 0 \\quad \\forall \\quad i  \\notin \\{0,...,n-k-1\\}$. Then we get \n",
    "\n",
    "\\begin{equation*}\n",
    "\\sum_{i=-k}^{n-1} B_{i,k+1}(x) = \\\\ (1-\\lambda_{0,k+1}(x))B_{0,k}(x) + \\lambda_{0,k+1}(x)B_{0,k}(x) \\\\ + (1-\\lambda_{1,k+1}(x))B_{1,k}(x) +...+ \\lambda_{n-k-2,k+1}(x)B_{n-k-2,k}\\\\+ (1-\\lambda_{n-k-1}(x))B_{n-k-1,k}(x) + \\lambda_{n-k,k+1}(x)B_{n-k-1,k}(x)  = \\\\ B_{0,k}(x) + B_{1,k}(x) + ... + B_{n-k-2,k}(x) + B_{n-k-1,k}(x)\n",
    "\\end{equation*}\n",
    "\n",
    "By the inductive assumption, this sum must be one, which is what we wanted. "
   ]
  },
  {
   "cell_type": "markdown",
   "metadata": {},
   "source": [
    "## Problem 2\n",
    "\n",
    "We want to investigate two cases of exact quadrature properties.\n",
    "\n",
    "Remember that a quadrature formula $I_n(f)$ is called __exact__ for a space $G$ of functions, if\n",
    "\n",
    "$$\n",
    "I_n(f) = I(f)\\qquad \\text{for all} \\quad f \\in G.\n",
    "$$\n",
    "\n",
    "Determine the weights $w_0,w_1,w_2$ of the quadrature forumla\n",
    "\\begin{equation*}\n",
    "I_3(f) = w_0f(0)+w_1f\\left(\\frac{\\pi}{2}\\right)+w_2f(\\pi),\n",
    "\\end{equation*}\n",
    "such that the formula $I_3$ is __exact__ for all functions from the space\n",
    "\\begin{equation*}\n",
    "G = \\operatorname{span} \\left\\{1,\\sin(x),\\cos \\left(\\frac{x}{2} \\right)\\right\\}\n",
    "\\end{equation*}\n",
    "on $[0,\\pi]$."
   ]
  },
  {
   "cell_type": "markdown",
   "metadata": {},
   "source": [
    "**2**\n",
    "\n",
    "We have three degrees of freedom and three conditions we want to be fulfilled (exactness of the functions in G). Multiplying by constants will not change the answers:\n",
    "\n",
    "$a\\int_0^\\pi(f(x)) = a\\left(w_0f(0)+w_if(\\frac{\\pi}{2}+w_2f(\\pi)\\right)$.\n",
    "\n",
    "Therefore, I will use the \"base\" functions in the span, and know it will hold for all functions spanned by them. \n",
    "\n",
    "For the formula $I_3$ to be exact we want that\n",
    "\n",
    "$\\int_0^\\pi(f(x)) = \\left(w_0f(0)+w_if(\\frac{\\pi}{2}+w_2f(\\pi)\\right)$. \n",
    "\n",
    "This gives three linear equations:\n",
    "\n",
    "i) $w_0+w_1+w_2 =\\int_0^\\pi 1dx= \\pi $\n",
    "\n",
    "ii) $w_1 = \\int_0^\\pi sinxdx = 2$\n",
    "\n",
    "iii) $w_0 + \\frac{\\sqrt2}{2}w_1=\\int_0^\\pi(cos\\frac{x}{2})dx=2$\n",
    "\n",
    "Thus the weights are\n",
    "\n",
    "$w_0 = 2-\\sqrt2$\n",
    "\n",
    "$w_1 = 2$\n",
    "\n",
    "$w_2 = \\pi-4+\\sqrt2$\n"
   ]
  }
 ],
 "metadata": {
  "kernelspec": {
   "display_name": "Python 3",
   "language": "python",
   "name": "python3"
  },
  "language_info": {
   "codemirror_mode": {
    "name": "ipython",
    "version": 3
   },
   "file_extension": ".py",
   "mimetype": "text/x-python",
   "name": "python",
   "nbconvert_exporter": "python",
   "pygments_lexer": "ipython3",
   "version": "3.7.4"
  }
 },
 "nbformat": 4,
 "nbformat_minor": 5
}
